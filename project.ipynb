{
  "nbformat": 4,
  "nbformat_minor": 0,
  "metadata": {
    "colab": {
      "name": "2.ipynb",
      "provenance": []
    },
    "kernelspec": {
      "name": "python3",
      "display_name": "Python 3"
    },
    "language_info": {
      "name": "python"
    }
  },
  "cells": [
    {
      "cell_type": "code",
      "source": [
        "'''\n",
        "Соколов Михаил Павлович\n",
        "michael-0801@yandex.ru\n",
        "\n",
        "https://github.com/smp888/P.git\n",
        "\n",
        "Проект\n",
        "\n",
        "Тема: Поиск шаблонов в данных о студентах контрактной формы обучения\n",
        "'''\n"
      ],
      "metadata": {
        "id": "oXrLFf234Eqq"
      },
      "execution_count": null,
      "outputs": []
    },
    {
      "cell_type": "code",
      "source": [
        "# Загрузка набора данных:\n",
        "# Институты, в которых учились студенты, учившиеся в нескольких инстутутах\n",
        "\n",
        "with open('inst2.txt', 'r') as f:\n",
        "  data = f.read().splitlines()\n",
        "\n",
        "# Подготовка и анализ набора данных\n",
        "\n",
        "import re\n",
        "\n",
        "max=0\n",
        "sum=0\n",
        "for i in range(len(data)):\n",
        "  data[i] = re.split(\",\", data[i])\n",
        "  data[i]=list(set(data[i]))\n",
        "  if len(data[i])>max:\n",
        "    max=len(data[i])\n",
        "  if (len(data[i])>1):\n",
        "    sum=sum+len(data[i])\n",
        "data = [x for x in data if len(x)>1]\n",
        "print(\"Количество транзакций:\")\n",
        "print(len(data))\n",
        "print(\"Максимальная длина транзакции:\")\n",
        "print(max)\n",
        "print(\"Средняя длина транзакции:\")\n",
        "print(sum/len(data))\n",
        "print(\"Пример транзакции:\")\n",
        "print(data[8])"
      ],
      "metadata": {
        "colab": {
          "base_uri": "https://localhost:8080/"
        },
        "id": "IlxS4ymOye_w",
        "outputId": "2d2fcd69-d2db-448c-f490-fdb31427be61"
      },
      "execution_count": 88,
      "outputs": [
        {
          "output_type": "stream",
          "name": "stdout",
          "text": [
            "Количество транзакций:\n",
            "2893\n",
            "Максимальная длина транзакции:\n",
            "4\n",
            "Средняя длина транзакции:\n",
            "2.0525406152782577\n",
            "Пример транзакции:\n",
            "['ПИ', 'ВШЭКН']\n"
          ]
        }
      ]
    },
    {
      "cell_type": "code",
      "source": [
        "# Загрузка набора данных:\n",
        "# Институт, Вид обучения, Срок обучения, Тип заказчика\n",
        "\n",
        "with open('4.txt', 'r') as f:\n",
        "  data2 = f.read().splitlines()\n",
        "\n",
        "# Подготовка и анализ набора данных\n",
        "\n",
        "import re\n",
        "\n",
        "sum=0\n",
        "for i in range(len(data2)):\n",
        "  data2[i] = re.split(\";\", data2[i])\n",
        "  sum=sum+len(data2[i])\n",
        "\n",
        "print(\"Количество транзакций:\")\n",
        "print(len(data2))\n",
        "print(\"Пример транзакции:\")\n",
        "print(data2[8])"
      ],
      "metadata": {
        "colab": {
          "base_uri": "https://localhost:8080/"
        },
        "id": "1gf37yQwa0xH",
        "outputId": "acd2851e-d320-4dc1-d806-3f7beca6e5e2"
      },
      "execution_count": 89,
      "outputs": [
        {
          "output_type": "stream",
          "name": "stdout",
          "text": [
            "Количество транзакций:\n",
            "58250\n",
            "Пример транзакции:\n",
            "['ПИ', 'Заочная', '5 лет', 'Сам']\n"
          ]
        }
      ]
    },
    {
      "cell_type": "code",
      "source": [
        "# Установка библиотеки для алгоритма Apriori\n",
        "!pip install efficient-apriori\n",
        "from efficient_apriori import apriori"
      ],
      "metadata": {
        "colab": {
          "base_uri": "https://localhost:8080/"
        },
        "id": "QLY5Ksn_Cz4N",
        "outputId": "3576d8e4-6ba2-4949-904c-4d59c88041eb"
      },
      "execution_count": 8,
      "outputs": [
        {
          "output_type": "stream",
          "name": "stdout",
          "text": [
            "Collecting efficient-apriori\n",
            "  Downloading efficient_apriori-2.0.1-py3-none-any.whl (14 kB)\n",
            "Installing collected packages: efficient-apriori\n",
            "Successfully installed efficient-apriori-2.0.1\n"
          ]
        }
      ]
    },
    {
      "cell_type": "code",
      "source": [
        "# Институты\n",
        "itemsets, rules = apriori(data, min_support=0.01, min_confidence=0.4)\n",
        "for i in range(len(itemsets)):\n",
        "  print(itemsets[i+1]) \n",
        "for i in range(len(rules)):\n",
        "  print(rules[i]) "
      ],
      "metadata": {
        "colab": {
          "base_uri": "https://localhost:8080/"
        },
        "id": "2gfjdMJGyySj",
        "outputId": "29afe962-b62a-497f-eb3a-aae79ca17120"
      },
      "execution_count": 150,
      "outputs": [
        {
          "output_type": "stream",
          "name": "stdout",
          "text": [
            "{('ИОДО',): 1060, ('ВШЭУ',): 1436, ('ПИ',): 655, ('АСИ',): 235, ('ВШЭКН',): 212, ('ИСТС',): 677, ('ЮИ',): 883, ('ВМБШ',): 135, ('ИМСГН',): 236, ('ИЛиМК',): 340, ('ИЕТН',): 68}\n",
            "{('АСИ', 'ВШЭУ'): 56, ('АСИ', 'ИОДО'): 72, ('АСИ', 'ПИ'): 49, ('ВМБШ', 'ВШЭУ'): 38, ('ВМБШ', 'ИСТС'): 31, ('ВШЭКН', 'ВШЭУ'): 51, ('ВШЭКН', 'ПИ'): 85, ('ВШЭУ', 'ИЛиМК'): 119, ('ВШЭУ', 'ИМСГН'): 67, ('ВШЭУ', 'ИОДО'): 400, ('ВШЭУ', 'ИСТС'): 302, ('ВШЭУ', 'ПИ'): 167, ('ВШЭУ', 'ЮИ'): 309, ('ИЛиМК', 'ИМСГН'): 59, ('ИЛиМК', 'ИСТС'): 60, ('ИЛиМК', 'ЮИ'): 36, ('ИМСГН', 'ИСТС'): 42, ('ИМСГН', 'ЮИ'): 30, ('ИОДО', 'ИСТС'): 60, ('ИОДО', 'ПИ'): 248, ('ИОДО', 'ЮИ'): 280, ('ИСТС', 'ПИ'): 35, ('ИСТС', 'ЮИ'): 178, ('ПИ', 'ЮИ'): 72}\n",
            "{ВШЭКН} -> {ПИ} (conf: 0.401, supp: 0.029, lift: 1.771, conv: 1.291)\n",
            "{ИСТС} -> {ВШЭУ} (conf: 0.446, supp: 0.104, lift: 0.899, conv: 0.909)\n"
          ]
        }
      ]
    },
    {
      "cell_type": "code",
      "source": [
        "# Выбор оптимального количества наборов длины 4 в наборе №2\n",
        "\n",
        "import numpy as np\n",
        "import matplotlib.pyplot as plt\n",
        "import time\n",
        "\n",
        "x = [0.01, 0.02, 0.03, 0.04, 0.05, 0.06, 0.07, 0.08, 0.09]\n",
        "y = []\n",
        "z = []\n",
        "\n",
        "for i in x:\n",
        "  start_time = time.time()\n",
        "  itemsets, rules = apriori(data2, min_support=i) \n",
        "  z=z+[(time.time() - start_time)*1000]\n",
        "  if len(itemsets)==4:\n",
        "    y=y+[len(itemsets[len(itemsets)])]\n",
        "  else:\n",
        "    y=y+[0]\n",
        "\n",
        "fig, ax = plt.subplots()\n",
        "\n",
        "ax.plot(x, y)\n",
        "ax.grid()\n",
        "\n",
        "ax.set_xlabel('порог поддержки')\n",
        "ax.set_ylabel('кол-во наборов')\n",
        "\n",
        "ax.set_title('Кол-во наборов максимально возможной длины')\n",
        "\n",
        "plt.show()\n",
        "\n",
        "fig, ax = plt.subplots()\n",
        "\n",
        "ax.plot(x, z)\n",
        "ax.grid()\n",
        "\n",
        "ax.set_xlabel('порог поддержки')\n",
        "ax.set_ylabel('время выполнения (мс)')\n",
        "\n",
        "ax.set_title('Быстродействие')\n",
        "\n",
        "plt.show()"
      ],
      "metadata": {
        "colab": {
          "base_uri": "https://localhost:8080/",
          "height": 573
        },
        "id": "M0N6ZwiOQ6u0",
        "outputId": "44fde1bb-67b1-405e-a509-d06e7d2bb6ce"
      },
      "execution_count": 147,
      "outputs": [
        {
          "output_type": "display_data",
          "data": {
            "image/png": "[encoded data removed]",
            "text/plain": [
              "<Figure size 432x288 with 1 Axes>"
            ]
          },
          "metadata": {
            "needs_background": "light"
          }
        },
        {
          "output_type": "display_data",
          "data": {
            "image/png": "[encoded data removed]",
            "text/plain": [
              "<Figure size 432x288 with 1 Axes>"
            ]
          },
          "metadata": {
            "needs_background": "light"
          }
        }
      ]
    },
    {
      "cell_type": "code",
      "source": [
        "# Наиболее частые наборы: Институт, Вид обучения, Срок обучения, Тип заказчика\n",
        "# Порог поддержки выбран 0.04\n",
        "itemsets, rules = apriori(data2, min_support=0.04)  \n",
        "print(itemsets[len(itemsets)]) "
      ],
      "metadata": {
        "colab": {
          "base_uri": "https://localhost:8080/"
        },
        "id": "yLOXhmLTW_EY",
        "outputId": "a3ef1fc7-0f47-4955-f2e0-10e72261856b"
      },
      "execution_count": 148,
      "outputs": [
        {
          "output_type": "stream",
          "name": "stdout",
          "text": [
            "{('4 года', 'ВШЭУ', 'Дневная', 'Физ. лицо'): 4154, ('5 лет', 'ВШЭУ', 'Дневная', 'Физ. лицо'): 2510, ('5 лет', 'ВШЭУ', 'Заочная', 'Сам'): 3868, ('5 лет', 'Заочная', 'ИОДО', 'Сам'): 5308, ('5 лет', 'Заочная', 'ПИ', 'Сам'): 4252}\n"
          ]
        }
      ]
    }
  ]
}